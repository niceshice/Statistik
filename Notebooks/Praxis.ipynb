{
 "cells": [
  {
   "cell_type": "code",
   "execution_count": 1,
   "metadata": {
    "collapsed": false
   },
   "outputs": [
    {
     "data": {
      "text/html": [
       "<div>\n",
       "<style scoped>\n",
       "    .dataframe tbody tr th:only-of-type {\n",
       "        vertical-align: middle;\n",
       "    }\n",
       "\n",
       "    .dataframe tbody tr th {\n",
       "        vertical-align: top;\n",
       "    }\n",
       "\n",
       "    .dataframe thead th {\n",
       "        text-align: right;\n",
       "    }\n",
       "</style>\n",
       "<table border=\"1\" class=\"dataframe\">\n",
       "  <thead>\n",
       "    <tr style=\"text-align: right;\">\n",
       "      <th></th>\n",
       "      <th>idno</th>\n",
       "      <th>author-country</th>\n",
       "      <th>author-name</th>\n",
       "      <th>author-gender</th>\n",
       "      <th>title</th>\n",
       "      <th>year</th>\n",
       "      <th>narrator</th>\n",
       "      <th>protagonist-gender</th>\n",
       "      <th>protagonist-social-level</th>\n",
       "      <th>protagonist-social-level-nr</th>\n",
       "      <th>time-span</th>\n",
       "      <th>type-end</th>\n",
       "      <th>type-end-nr</th>\n",
       "      <th>canon-proxy</th>\n",
       "      <th>size_words</th>\n",
       "      <th>size_chars</th>\n",
       "      <th>decade</th>\n",
       "    </tr>\n",
       "  </thead>\n",
       "  <tbody>\n",
       "    <tr>\n",
       "      <th>0</th>\n",
       "      <td>ne0001</td>\n",
       "      <td>Spain</td>\n",
       "      <td>Baroja</td>\n",
       "      <td>male</td>\n",
       "      <td>Mayorazgo</td>\n",
       "      <td>1903</td>\n",
       "      <td>third-person</td>\n",
       "      <td>male</td>\n",
       "      <td>high</td>\n",
       "      <td>1</td>\n",
       "      <td>365</td>\n",
       "      <td>positive</td>\n",
       "      <td>1</td>\n",
       "      <td>2.0</td>\n",
       "      <td>51032</td>\n",
       "      <td>294083</td>\n",
       "      <td>1900</td>\n",
       "    </tr>\n",
       "    <tr>\n",
       "      <th>1</th>\n",
       "      <td>ne0002</td>\n",
       "      <td>Spain</td>\n",
       "      <td>Galdos</td>\n",
       "      <td>male</td>\n",
       "      <td>Misericordia</td>\n",
       "      <td>1889</td>\n",
       "      <td>third-person</td>\n",
       "      <td>female</td>\n",
       "      <td>low</td>\n",
       "      <td>-1</td>\n",
       "      <td>90</td>\n",
       "      <td>negative</td>\n",
       "      <td>-1</td>\n",
       "      <td>6.0</td>\n",
       "      <td>83782</td>\n",
       "      <td>476876</td>\n",
       "      <td>1880</td>\n",
       "    </tr>\n",
       "    <tr>\n",
       "      <th>2</th>\n",
       "      <td>ne0003</td>\n",
       "      <td>Spain</td>\n",
       "      <td>Galdos</td>\n",
       "      <td>male</td>\n",
       "      <td>Nazarin</td>\n",
       "      <td>1895</td>\n",
       "      <td>third-person</td>\n",
       "      <td>male</td>\n",
       "      <td>low</td>\n",
       "      <td>-1</td>\n",
       "      <td>90</td>\n",
       "      <td>positive</td>\n",
       "      <td>1</td>\n",
       "      <td>2.0</td>\n",
       "      <td>64723</td>\n",
       "      <td>366700</td>\n",
       "      <td>1890</td>\n",
       "    </tr>\n",
       "    <tr>\n",
       "      <th>3</th>\n",
       "      <td>ne0004</td>\n",
       "      <td>Spain</td>\n",
       "      <td>Galdos</td>\n",
       "      <td>male</td>\n",
       "      <td>Halma</td>\n",
       "      <td>1895</td>\n",
       "      <td>third-person</td>\n",
       "      <td>mixed</td>\n",
       "      <td>high</td>\n",
       "      <td>1</td>\n",
       "      <td>365</td>\n",
       "      <td>positive</td>\n",
       "      <td>1</td>\n",
       "      <td>1.0</td>\n",
       "      <td>73342</td>\n",
       "      <td>424834</td>\n",
       "      <td>1890</td>\n",
       "    </tr>\n",
       "    <tr>\n",
       "      <th>4</th>\n",
       "      <td>ne0005</td>\n",
       "      <td>Spain</td>\n",
       "      <td>Galdos</td>\n",
       "      <td>male</td>\n",
       "      <td>Tristana</td>\n",
       "      <td>1892</td>\n",
       "      <td>third-person</td>\n",
       "      <td>female</td>\n",
       "      <td>low</td>\n",
       "      <td>-1</td>\n",
       "      <td>1800</td>\n",
       "      <td>positive</td>\n",
       "      <td>1</td>\n",
       "      <td>2.0</td>\n",
       "      <td>52555</td>\n",
       "      <td>300788</td>\n",
       "      <td>1890</td>\n",
       "    </tr>\n",
       "  </tbody>\n",
       "</table>\n",
       "</div>"
      ],
      "text/plain": [
       "     idno author-country author-name author-gender         title  year  \\\n",
       "0  ne0001          Spain      Baroja          male     Mayorazgo  1903   \n",
       "1  ne0002          Spain      Galdos          male  Misericordia  1889   \n",
       "2  ne0003          Spain      Galdos          male       Nazarin  1895   \n",
       "3  ne0004          Spain      Galdos          male         Halma  1895   \n",
       "4  ne0005          Spain      Galdos          male      Tristana  1892   \n",
       "\n",
       "       narrator protagonist-gender protagonist-social-level  \\\n",
       "0  third-person               male                     high   \n",
       "1  third-person             female                      low   \n",
       "2  third-person               male                      low   \n",
       "3  third-person              mixed                     high   \n",
       "4  third-person             female                      low   \n",
       "\n",
       "   protagonist-social-level-nr  time-span  type-end  type-end-nr  canon-proxy  \\\n",
       "0                            1        365  positive            1          2.0   \n",
       "1                           -1         90  negative           -1          6.0   \n",
       "2                           -1         90  positive            1          2.0   \n",
       "3                            1        365  positive            1          1.0   \n",
       "4                           -1       1800  positive            1          2.0   \n",
       "\n",
       "   size_words  size_chars  decade  \n",
       "0       51032      294083    1900  \n",
       "1       83782      476876    1880  \n",
       "2       64723      366700    1890  \n",
       "3       73342      424834    1890  \n",
       "4       52555      300788    1890  "
      ]
     },
     "execution_count": 1,
     "metadata": {},
     "output_type": "execute_result"
    }
   ],
   "source": [
    "import pandas as pd\n",
    "sp_novels = pd.read_csv(\"sp_novels.tsv\", sep=\"\\t\")\n",
    "sp_novels.head()"
   ]
  },
  {
   "cell_type": "markdown",
   "metadata": {},
   "source": [
    "## Parameter\n",
    "\n",
    "#### Median"
   ]
  },
  {
   "cell_type": "code",
   "execution_count": 22,
   "metadata": {
    "collapsed": false
   },
   "outputs": [
    {
     "name": "stdout",
     "output_type": "stream",
     "text": [
      "365.0\n"
     ]
    }
   ],
   "source": [
    "median = sp_novels[\"time-span\"].median()\n",
    "print(median)"
   ]
  },
  {
   "cell_type": "markdown",
   "metadata": {},
   "source": [
    "#### Arith. Mittel"
   ]
  },
  {
   "cell_type": "code",
   "execution_count": 23,
   "metadata": {
    "collapsed": false
   },
   "outputs": [
    {
     "name": "stdout",
     "output_type": "stream",
     "text": [
      "2037.9\n"
     ]
    }
   ],
   "source": [
    "mean = sp_novels[\"time-span\"].mean()\n",
    "print(mean)"
   ]
  },
  {
   "cell_type": "markdown",
   "metadata": {},
   "source": [
    "#### Varianz"
   ]
  },
  {
   "cell_type": "code",
   "execution_count": 24,
   "metadata": {
    "collapsed": false
   },
   "outputs": [
    {
     "name": "stdout",
     "output_type": "stream",
     "text": [
      "3780.747300925985\n"
     ]
    }
   ],
   "source": [
    "var = sp_novels[\"time-span\"].std()\n",
    "print(var)"
   ]
  },
  {
   "cell_type": "markdown",
   "metadata": {},
   "source": [
    "#### 50%-Quantil (=Median)"
   ]
  },
  {
   "cell_type": "code",
   "execution_count": 25,
   "metadata": {
    "collapsed": false
   },
   "outputs": [
    {
     "name": "stdout",
     "output_type": "stream",
     "text": [
      "365.0\n"
     ]
    }
   ],
   "source": [
    "q2 = sp_novels[\"time-span\"].quantile(q=0.5)\n",
    "print(q2)"
   ]
  },
  {
   "cell_type": "markdown",
   "metadata": {},
   "source": [
    "#### Interquartilsabstand"
   ]
  },
  {
   "cell_type": "code",
   "execution_count": 14,
   "metadata": {
    "collapsed": false
   },
   "outputs": [
    {
     "data": {
      "text/plain": [
       "-1461.25"
      ]
     },
     "execution_count": 14,
     "metadata": {},
     "output_type": "execute_result"
    }
   ],
   "source": [
    "quartile1 = sp_novels[\"time-span\"].quantile(q=0.25)\n",
    "quartile3 = sp_novels[\"time-span\"].quantile(q=0.75)\n",
    "\n",
    "iqr = quartile1 - quartile3\n",
    "print(iqr)"
   ]
  },
  {
   "cell_type": "code",
   "execution_count": 17,
   "metadata": {
    "collapsed": false
   },
   "outputs": [
    {
     "name": "stdout",
     "output_type": "stream",
     "text": [
      "\n"
     ]
    }
   ],
   "source": [
    "print(median,\"+-\", iqr, \"(Median +- IQR)\")"
   ]
  },
  {
   "cell_type": "code",
   "execution_count": null,
   "metadata": {
    "collapsed": true
   },
   "outputs": [],
   "source": []
  },
  {
   "cell_type": "raw",
   "metadata": {},
   "source": []
  },
  {
   "cell_type": "code",
   "execution_count": null,
   "metadata": {
    "collapsed": true
   },
   "outputs": [],
   "source": []
  }
 ],
 "metadata": {
  "kernelspec": {
   "display_name": "Python 3",
   "language": "python",
   "name": "python3"
  },
  "language_info": {
   "codemirror_mode": {
    "name": "ipython",
    "version": 3
   },
   "file_extension": ".py",
   "mimetype": "text/x-python",
   "name": "python",
   "nbconvert_exporter": "python",
   "pygments_lexer": "ipython3",
   "version": "3.6.3"
  }
 },
 "nbformat": 4,
 "nbformat_minor": 2
}
