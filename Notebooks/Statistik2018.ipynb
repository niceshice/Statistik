{
 "cells": [
  {
   "cell_type": "markdown",
   "metadata": {},
   "source": [
    "### Import der Tabelle \"Spanische Autoren\""
   ]
  },
  {
   "cell_type": "code",
   "execution_count": 1,
   "metadata": {
    "collapsed": false
   },
   "outputs": [
    {
     "ename": "ModuleNotFoundError",
     "evalue": "No module named 'plotly'",
     "output_type": "error",
     "traceback": [
      "\u001b[0;31m---------------------------------------------------------------------------\u001b[0m",
      "\u001b[0;31mModuleNotFoundError\u001b[0m                       Traceback (most recent call last)",
      "\u001b[0;32m<ipython-input-1-e569f4206d5c>\u001b[0m in \u001b[0;36m<module>\u001b[0;34m()\u001b[0m\n\u001b[1;32m      1\u001b[0m \u001b[0;32mimport\u001b[0m \u001b[0mpandas\u001b[0m \u001b[0;32mas\u001b[0m \u001b[0mpd\u001b[0m\u001b[0;34m\u001b[0m\u001b[0m\n\u001b[1;32m      2\u001b[0m \u001b[0;32mimport\u001b[0m \u001b[0mmath\u001b[0m\u001b[0;34m\u001b[0m\u001b[0m\n\u001b[0;32m----> 3\u001b[0;31m \u001b[0;32mimport\u001b[0m \u001b[0mplotly\u001b[0m\u001b[0;34m.\u001b[0m\u001b[0mplotly\u001b[0m \u001b[0;32mas\u001b[0m \u001b[0mpy\u001b[0m\u001b[0;34m\u001b[0m\u001b[0m\n\u001b[0m\u001b[1;32m      4\u001b[0m \u001b[0;32mimport\u001b[0m \u001b[0mplotly\u001b[0m\u001b[0;34m.\u001b[0m\u001b[0mgraph_objs\u001b[0m \u001b[0;32mas\u001b[0m \u001b[0mgo\u001b[0m\u001b[0;34m\u001b[0m\u001b[0m\n\u001b[1;32m      5\u001b[0m \u001b[0;32mimport\u001b[0m \u001b[0mplotly\u001b[0m\u001b[0;34m.\u001b[0m\u001b[0mfigure_factory\u001b[0m \u001b[0;32mas\u001b[0m \u001b[0mff\u001b[0m\u001b[0;34m\u001b[0m\u001b[0m\n",
      "\u001b[0;31mModuleNotFoundError\u001b[0m: No module named 'plotly'"
     ]
    }
   ],
   "source": [
    "import pandas as pd\n",
    "import math\n",
    "import plotly.plotly as py\n",
    "import plotly.graph_objs as go\n",
    "import plotly.figure_factory as ff\n",
    "from collections import Counter\n",
    "import nbconvert\n",
    "\n",
    "sp_authors = pd.read_csv(r\"D:\\cravi\\Documents\\Uni\\DH\\Statistik\\Data\\sp_authors.tsv\", sep=\"\\t\")\n",
    "sp_authors.head()"
   ]
  },
  {
   "cell_type": "markdown",
   "metadata": {},
   "source": [
    "#### Ausgabe"
   ]
  },
  {
   "cell_type": "code",
   "execution_count": 2,
   "metadata": {
    "collapsed": false
   },
   "outputs": [
    {
     "ename": "NameError",
     "evalue": "name 'sp_authors' is not defined",
     "output_type": "error",
     "traceback": [
      "\u001b[0;31m---------------------------------------------------------------------------\u001b[0m",
      "\u001b[0;31mNameError\u001b[0m                                 Traceback (most recent call last)",
      "\u001b[0;32m<ipython-input-2-8fb68d0dd15e>\u001b[0m in \u001b[0;36m<module>\u001b[0;34m()\u001b[0m\n\u001b[1;32m      1\u001b[0m \u001b[0;31m#sp_authors[\"life-span\"]\u001b[0m\u001b[0;34m\u001b[0m\u001b[0;34m\u001b[0m\u001b[0m\n\u001b[0;32m----> 2\u001b[0;31m \u001b[0msp_authors\u001b[0m\u001b[0;34m[\u001b[0m\u001b[0;34m\"life-span\"\u001b[0m\u001b[0;34m]\u001b[0m\u001b[0;34m[\u001b[0m\u001b[0;36m0\u001b[0m\u001b[0;34m:\u001b[0m\u001b[0;36m10\u001b[0m\u001b[0;34m]\u001b[0m\u001b[0;34m\u001b[0m\u001b[0m\n\u001b[0m",
      "\u001b[0;31mNameError\u001b[0m: name 'sp_authors' is not defined"
     ]
    }
   ],
   "source": [
    "#sp_authors[\"life-span\"]\n",
    "sp_authors[\"life-span\"][0:10]"
   ]
  },
  {
   "cell_type": "markdown",
   "metadata": {},
   "source": [
    "..als Liste"
   ]
  },
  {
   "cell_type": "code",
   "execution_count": 3,
   "metadata": {
    "collapsed": false
   },
   "outputs": [
    {
     "name": "stdout",
     "output_type": "stream",
     "text": [
      "[48, 68, 70, 60, 77, 68, 58, 58, 73, 81, 77, 70, 49, 85, 64, 71, 66, 61, 47, 98, 52, 66, 78, 56, 80, 48, 63, 62, 47, 82, 46, 65, 62, 80, 52, 51, 85, 67, 72, 84, 94, 51, 82, 75, 83, 71, 90, 80, 55, 59, 51, 59, 55, 66, 56, 73, 66, 55, 54, 59, 73, 63, 88, 61, 78, 78, 42, 48, 41, 75, 83, 88, 85, 81, 86, 62, 79, 52, 42, 66, 34, 85, 51, 72, 84, 92, 73, 60, 88, 81, 36, 54, 71, 70, 72, 65, 75, 74, 60, 74, 59, 39, 92, 68, 77, 36, 61, 83, 32, 65, 84, 64, 65, 60, 61, 90, 68, 53, 96, 81, 103, 60, 65, 84, 71, 86, 68, 86, 72, 70, 80, 49, 53] "
     ]
    }
   ],
   "source": [
    "print(sp_authors[\"life-span\"].values.tolist(), end=\" \")"
   ]
  },
  {
   "cell_type": "markdown",
   "metadata": {},
   "source": [
    "### Import eigener Tabelle\n",
    "\n",
    "Eine Liste deutscher Kinderbuchautoren, die im 20. Jhdt geboren wurden."
   ]
  },
  {
   "cell_type": "code",
   "execution_count": 4,
   "metadata": {
    "collapsed": false
   },
   "outputs": [
    {
     "data": {
      "text/html": [
       "<div>\n",
       "<style scoped>\n",
       "    .dataframe tbody tr th:only-of-type {\n",
       "        vertical-align: middle;\n",
       "    }\n",
       "\n",
       "    .dataframe tbody tr th {\n",
       "        vertical-align: top;\n",
       "    }\n",
       "\n",
       "    .dataframe thead th {\n",
       "        text-align: right;\n",
       "    }\n",
       "</style>\n",
       "<table border=\"1\" class=\"dataframe\">\n",
       "  <thead>\n",
       "    <tr style=\"text-align: right;\">\n",
       "      <th></th>\n",
       "      <th>Nachname</th>\n",
       "      <th>Vorname</th>\n",
       "      <th>Geburtsjahr</th>\n",
       "      <th>Todesjahr</th>\n",
       "    </tr>\n",
       "  </thead>\n",
       "  <tbody>\n",
       "    <tr>\n",
       "      <th>0</th>\n",
       "      <td>Abraham</td>\n",
       "      <td>Peter</td>\n",
       "      <td>1936</td>\n",
       "      <td>2015</td>\n",
       "    </tr>\n",
       "    <tr>\n",
       "      <th>1</th>\n",
       "      <td>Aichner</td>\n",
       "      <td>Fridolin</td>\n",
       "      <td>1912</td>\n",
       "      <td>1987</td>\n",
       "    </tr>\n",
       "    <tr>\n",
       "      <th>2</th>\n",
       "      <td>Alexander-Burgh</td>\n",
       "      <td>Eberhard</td>\n",
       "      <td>1929</td>\n",
       "      <td>2004</td>\n",
       "    </tr>\n",
       "    <tr>\n",
       "      <th>3</th>\n",
       "      <td>Allfrey</td>\n",
       "      <td>Katherine</td>\n",
       "      <td>1910</td>\n",
       "      <td>2001</td>\n",
       "    </tr>\n",
       "    <tr>\n",
       "      <th>4</th>\n",
       "      <td>Axt</td>\n",
       "      <td>Maria</td>\n",
       "      <td>1926</td>\n",
       "      <td>1986</td>\n",
       "    </tr>\n",
       "  </tbody>\n",
       "</table>\n",
       "</div>"
      ],
      "text/plain": [
       "          Nachname    Vorname  Geburtsjahr  Todesjahr\n",
       "0          Abraham      Peter         1936       2015\n",
       "1          Aichner   Fridolin         1912       1987\n",
       "2  Alexander-Burgh   Eberhard         1929       2004\n",
       "3          Allfrey  Katherine         1910       2001\n",
       "4             Axt       Maria         1926       1986"
      ]
     },
     "execution_count": 4,
     "metadata": {},
     "output_type": "execute_result"
    }
   ],
   "source": [
    "gerChB_authors = pd.read_csv(r\"D:\\cravi\\Documents\\Uni\\DH\\Statistik\\Data\\KinderautorenD20Jhdt.tsv\", sep=\"\\t\")\n",
    "gerChB_authors.head()"
   ]
  },
  {
   "cell_type": "code",
   "execution_count": 5,
   "metadata": {
    "collapsed": false
   },
   "outputs": [
    {
     "data": {
      "text/html": [
       "<div>\n",
       "<style scoped>\n",
       "    .dataframe tbody tr th:only-of-type {\n",
       "        vertical-align: middle;\n",
       "    }\n",
       "\n",
       "    .dataframe tbody tr th {\n",
       "        vertical-align: top;\n",
       "    }\n",
       "\n",
       "    .dataframe thead th {\n",
       "        text-align: right;\n",
       "    }\n",
       "</style>\n",
       "<table border=\"1\" class=\"dataframe\">\n",
       "  <thead>\n",
       "    <tr style=\"text-align: right;\">\n",
       "      <th></th>\n",
       "      <th>Nachname</th>\n",
       "      <th>Vorname</th>\n",
       "      <th>Geburtsjahr</th>\n",
       "      <th>Todesjahr</th>\n",
       "      <th>Lebensspanne</th>\n",
       "    </tr>\n",
       "  </thead>\n",
       "  <tbody>\n",
       "    <tr>\n",
       "      <th>0</th>\n",
       "      <td>Abraham</td>\n",
       "      <td>Peter</td>\n",
       "      <td>1936</td>\n",
       "      <td>2015</td>\n",
       "      <td>79</td>\n",
       "    </tr>\n",
       "    <tr>\n",
       "      <th>1</th>\n",
       "      <td>Aichner</td>\n",
       "      <td>Fridolin</td>\n",
       "      <td>1912</td>\n",
       "      <td>1987</td>\n",
       "      <td>75</td>\n",
       "    </tr>\n",
       "    <tr>\n",
       "      <th>2</th>\n",
       "      <td>Alexander-Burgh</td>\n",
       "      <td>Eberhard</td>\n",
       "      <td>1929</td>\n",
       "      <td>2004</td>\n",
       "      <td>75</td>\n",
       "    </tr>\n",
       "    <tr>\n",
       "      <th>3</th>\n",
       "      <td>Allfrey</td>\n",
       "      <td>Katherine</td>\n",
       "      <td>1910</td>\n",
       "      <td>2001</td>\n",
       "      <td>91</td>\n",
       "    </tr>\n",
       "    <tr>\n",
       "      <th>4</th>\n",
       "      <td>Axt</td>\n",
       "      <td>Maria</td>\n",
       "      <td>1926</td>\n",
       "      <td>1986</td>\n",
       "      <td>60</td>\n",
       "    </tr>\n",
       "  </tbody>\n",
       "</table>\n",
       "</div>"
      ],
      "text/plain": [
       "          Nachname    Vorname  Geburtsjahr  Todesjahr  Lebensspanne\n",
       "0          Abraham      Peter         1936       2015            79\n",
       "1          Aichner   Fridolin         1912       1987            75\n",
       "2  Alexander-Burgh   Eberhard         1929       2004            75\n",
       "3          Allfrey  Katherine         1910       2001            91\n",
       "4             Axt       Maria         1926       1986            60"
      ]
     },
     "execution_count": 5,
     "metadata": {},
     "output_type": "execute_result"
    }
   ],
   "source": [
    "gerChB_authors[\"Lebensspanne\"] = gerChB_authors[\"Todesjahr\"] - gerChB_authors[\"Geburtsjahr\"]\n",
    "gerChB_authors.head()"
   ]
  },
  {
   "cell_type": "markdown",
   "metadata": {},
   "source": [
    "\n",
    "\n",
    "#### Arithmetischer Mittelwert\n",
    "der Lebensspanne der Autoren aus der Liste gerChB_authors\n",
    "\n",
    "$ \\overline{x} = \\frac{1}{n} \\sum \\limits_{i = 1}^n {x_i} $"
   ]
  },
  {
   "cell_type": "code",
   "execution_count": 6,
   "metadata": {
    "collapsed": false
   },
   "outputs": [
    {
     "name": "stdout",
     "output_type": "stream",
     "text": [
      "75.45098039215686\n"
     ]
    }
   ],
   "source": [
    "mean = gerChB_authors[\"Lebensspanne\"].sum() / len(gerChB_authors)\n",
    "print(mean)"
   ]
  },
  {
   "cell_type": "markdown",
   "metadata": {},
   "source": [
    "\n",
    "\n",
    "#### Varianz/Standardabweichung\n",
    "der Lebensspanne der Autoren aus der Liste gerChB_authors\n",
    "\n",
    "$ s = \\sqrt{\\frac{1}{n-1} \\sum \\limits_{i = 1}^n (x_i - \\overline{x})^2 } $"
   ]
  },
  {
   "cell_type": "code",
   "execution_count": 7,
   "metadata": {
    "collapsed": false
   },
   "outputs": [
    {
     "name": "stdout",
     "output_type": "stream",
     "text": [
      "12.098452339849418\n"
     ]
    }
   ],
   "source": [
    "var = math.sqrt(\n",
    "    sum(\n",
    "        (gerChB_authors[\"Lebensspanne\"] - mean)**2) /\n",
    "        (len(gerChB_authors) - 1\n",
    "    )\n",
    ")\n",
    "print(var)"
   ]
  },
  {
   "cell_type": "code",
   "execution_count": 8,
   "metadata": {
    "collapsed": false
   },
   "outputs": [
    {
     "data": {
      "text/html": [
       "<div>\n",
       "<style scoped>\n",
       "    .dataframe tbody tr th:only-of-type {\n",
       "        vertical-align: middle;\n",
       "    }\n",
       "\n",
       "    .dataframe tbody tr th {\n",
       "        vertical-align: top;\n",
       "    }\n",
       "\n",
       "    .dataframe thead th {\n",
       "        text-align: right;\n",
       "    }\n",
       "</style>\n",
       "<table border=\"1\" class=\"dataframe\">\n",
       "  <thead>\n",
       "    <tr style=\"text-align: right;\">\n",
       "      <th></th>\n",
       "      <th>ID</th>\n",
       "      <th>label</th>\n",
       "      <th>gender</th>\n",
       "      <th>per_ms_sps</th>\n",
       "      <th>role</th>\n",
       "      <th>importance</th>\n",
       "    </tr>\n",
       "  </thead>\n",
       "  <tbody>\n",
       "    <tr>\n",
       "      <th>0</th>\n",
       "      <td>0</td>\n",
       "      <td>orlando</td>\n",
       "      <td>male</td>\n",
       "      <td>120</td>\n",
       "      <td>protagonist</td>\n",
       "      <td>primary</td>\n",
       "    </tr>\n",
       "    <tr>\n",
       "      <th>1</th>\n",
       "      <td>1</td>\n",
       "      <td>oliver</td>\n",
       "      <td>male</td>\n",
       "      <td>40</td>\n",
       "      <td>antagonist</td>\n",
       "      <td>primary</td>\n",
       "    </tr>\n",
       "    <tr>\n",
       "      <th>2</th>\n",
       "      <td>2</td>\n",
       "      <td>second brother</td>\n",
       "      <td>male</td>\n",
       "      <td>2</td>\n",
       "      <td>other</td>\n",
       "      <td>minor</td>\n",
       "    </tr>\n",
       "    <tr>\n",
       "      <th>3</th>\n",
       "      <td>3</td>\n",
       "      <td>adam</td>\n",
       "      <td>male</td>\n",
       "      <td>10</td>\n",
       "      <td>other</td>\n",
       "      <td>minor</td>\n",
       "    </tr>\n",
       "    <tr>\n",
       "      <th>4</th>\n",
       "      <td>4</td>\n",
       "      <td>dennis</td>\n",
       "      <td>male</td>\n",
       "      <td>2</td>\n",
       "      <td>other</td>\n",
       "      <td>minor</td>\n",
       "    </tr>\n",
       "    <tr>\n",
       "      <th>5</th>\n",
       "      <td>5</td>\n",
       "      <td>rosalind</td>\n",
       "      <td>female</td>\n",
       "      <td>201</td>\n",
       "      <td>lover</td>\n",
       "      <td>primary</td>\n",
       "    </tr>\n",
       "    <tr>\n",
       "      <th>6</th>\n",
       "      <td>6</td>\n",
       "      <td>celia</td>\n",
       "      <td>female</td>\n",
       "      <td>108</td>\n",
       "      <td>other</td>\n",
       "      <td>secondary</td>\n",
       "    </tr>\n",
       "    <tr>\n",
       "      <th>7</th>\n",
       "      <td>7</td>\n",
       "      <td>touchstone</td>\n",
       "      <td>male</td>\n",
       "      <td>74</td>\n",
       "      <td>other</td>\n",
       "      <td>secondary</td>\n",
       "    </tr>\n",
       "    <tr>\n",
       "      <th>8</th>\n",
       "      <td>8</td>\n",
       "      <td>duke frederick</td>\n",
       "      <td>male</td>\n",
       "      <td>20</td>\n",
       "      <td>antagonist</td>\n",
       "      <td>secondary</td>\n",
       "    </tr>\n",
       "    <tr>\n",
       "      <th>9</th>\n",
       "      <td>9</td>\n",
       "      <td>charles</td>\n",
       "      <td>male</td>\n",
       "      <td>8</td>\n",
       "      <td>other</td>\n",
       "      <td>minor</td>\n",
       "    </tr>\n",
       "    <tr>\n",
       "      <th>10</th>\n",
       "      <td>10</td>\n",
       "      <td>le beau</td>\n",
       "      <td>male</td>\n",
       "      <td>14</td>\n",
       "      <td>other</td>\n",
       "      <td>minor</td>\n",
       "    </tr>\n",
       "    <tr>\n",
       "      <th>11</th>\n",
       "      <td>11</td>\n",
       "      <td>first lord</td>\n",
       "      <td>male</td>\n",
       "      <td>1</td>\n",
       "      <td>other</td>\n",
       "      <td>minor</td>\n",
       "    </tr>\n",
       "    <tr>\n",
       "      <th>12</th>\n",
       "      <td>12</td>\n",
       "      <td>second lord</td>\n",
       "      <td>male</td>\n",
       "      <td>1</td>\n",
       "      <td>other</td>\n",
       "      <td>minor</td>\n",
       "    </tr>\n",
       "    <tr>\n",
       "      <th>13</th>\n",
       "      <td>13</td>\n",
       "      <td>duke senior</td>\n",
       "      <td>male</td>\n",
       "      <td>32</td>\n",
       "      <td>other</td>\n",
       "      <td>secondary</td>\n",
       "    </tr>\n",
       "    <tr>\n",
       "      <th>14</th>\n",
       "      <td>14</td>\n",
       "      <td>jaques</td>\n",
       "      <td>male</td>\n",
       "      <td>57</td>\n",
       "      <td>other</td>\n",
       "      <td>secondary</td>\n",
       "    </tr>\n",
       "    <tr>\n",
       "      <th>15</th>\n",
       "      <td>15</td>\n",
       "      <td>amiens</td>\n",
       "      <td>male</td>\n",
       "      <td>11</td>\n",
       "      <td>other</td>\n",
       "      <td>minor</td>\n",
       "    </tr>\n",
       "    <tr>\n",
       "      <th>16</th>\n",
       "      <td>16</td>\n",
       "      <td>first lord sen</td>\n",
       "      <td>male</td>\n",
       "      <td>6</td>\n",
       "      <td>other</td>\n",
       "      <td>minor</td>\n",
       "    </tr>\n",
       "    <tr>\n",
       "      <th>17</th>\n",
       "      <td>17</td>\n",
       "      <td>second lord sen</td>\n",
       "      <td>male</td>\n",
       "      <td>3</td>\n",
       "      <td>other</td>\n",
       "      <td>minor</td>\n",
       "    </tr>\n",
       "    <tr>\n",
       "      <th>18</th>\n",
       "      <td>18</td>\n",
       "      <td>first page</td>\n",
       "      <td>male</td>\n",
       "      <td>4</td>\n",
       "      <td>other</td>\n",
       "      <td>minor</td>\n",
       "    </tr>\n",
       "    <tr>\n",
       "      <th>19</th>\n",
       "      <td>19</td>\n",
       "      <td>second page</td>\n",
       "      <td>male</td>\n",
       "      <td>3</td>\n",
       "      <td>other</td>\n",
       "      <td>minor</td>\n",
       "    </tr>\n",
       "    <tr>\n",
       "      <th>20</th>\n",
       "      <td>20</td>\n",
       "      <td>corin</td>\n",
       "      <td>male</td>\n",
       "      <td>24</td>\n",
       "      <td>other</td>\n",
       "      <td>minor</td>\n",
       "    </tr>\n",
       "    <tr>\n",
       "      <th>21</th>\n",
       "      <td>21</td>\n",
       "      <td>silvius</td>\n",
       "      <td>male</td>\n",
       "      <td>24</td>\n",
       "      <td>other</td>\n",
       "      <td>minor</td>\n",
       "    </tr>\n",
       "    <tr>\n",
       "      <th>22</th>\n",
       "      <td>22</td>\n",
       "      <td>phoebe</td>\n",
       "      <td>female</td>\n",
       "      <td>23</td>\n",
       "      <td>other</td>\n",
       "      <td>minor</td>\n",
       "    </tr>\n",
       "    <tr>\n",
       "      <th>23</th>\n",
       "      <td>23</td>\n",
       "      <td>audrey</td>\n",
       "      <td>female</td>\n",
       "      <td>12</td>\n",
       "      <td>other</td>\n",
       "      <td>minor</td>\n",
       "    </tr>\n",
       "    <tr>\n",
       "      <th>24</th>\n",
       "      <td>24</td>\n",
       "      <td>william</td>\n",
       "      <td>male</td>\n",
       "      <td>11</td>\n",
       "      <td>other</td>\n",
       "      <td>minor</td>\n",
       "    </tr>\n",
       "    <tr>\n",
       "      <th>25</th>\n",
       "      <td>25</td>\n",
       "      <td>sir oliver martext</td>\n",
       "      <td>male</td>\n",
       "      <td>3</td>\n",
       "      <td>other</td>\n",
       "      <td>minor</td>\n",
       "    </tr>\n",
       "    <tr>\n",
       "      <th>26</th>\n",
       "      <td>26</td>\n",
       "      <td>hymen</td>\n",
       "      <td>male</td>\n",
       "      <td>2</td>\n",
       "      <td>other</td>\n",
       "      <td>minor</td>\n",
       "    </tr>\n",
       "  </tbody>\n",
       "</table>\n",
       "</div>"
      ],
      "text/plain": [
       "    ID               label  gender  per_ms_sps         role importance\n",
       "0    0             orlando    male         120  protagonist    primary\n",
       "1    1              oliver    male          40   antagonist    primary\n",
       "2    2      second brother    male           2        other      minor\n",
       "3    3                adam    male          10        other      minor\n",
       "4    4              dennis    male           2        other      minor\n",
       "5    5            rosalind  female         201        lover    primary\n",
       "6    6               celia  female         108        other  secondary\n",
       "7    7          touchstone    male          74        other  secondary\n",
       "8    8      duke frederick    male          20   antagonist  secondary\n",
       "9    9             charles    male           8        other      minor\n",
       "10  10             le beau    male          14        other      minor\n",
       "11  11          first lord    male           1        other      minor\n",
       "12  12         second lord    male           1        other      minor\n",
       "13  13         duke senior    male          32        other  secondary\n",
       "14  14              jaques    male          57        other  secondary\n",
       "15  15              amiens    male          11        other      minor\n",
       "16  16      first lord sen    male           6        other      minor\n",
       "17  17     second lord sen    male           3        other      minor\n",
       "18  18          first page    male           4        other      minor\n",
       "19  19         second page    male           3        other      minor\n",
       "20  20               corin    male          24        other      minor\n",
       "21  21             silvius    male          24        other      minor\n",
       "22  22              phoebe  female          23        other      minor\n",
       "23  23              audrey  female          12        other      minor\n",
       "24  24             william    male          11        other      minor\n",
       "25  25  sir oliver martext    male           3        other      minor\n",
       "26  26               hymen    male           2        other      minor"
      ]
     },
     "execution_count": 8,
     "metadata": {},
     "output_type": "execute_result"
    }
   ],
   "source": [
    "AYL_theatre_data = pd.read_excel(r\"D:\\cravi\\Documents\\Uni\\DH\\Statistik\\Data\\AYLSpeakerData.xlsx\")\n",
    "AYL_theatre_data"
   ]
  },
  {
   "cell_type": "code",
   "execution_count": 9,
   "metadata": {
    "collapsed": false
   },
   "outputs": [
    {
     "data": {
      "text/plain": [
       "30.22222222222222"
      ]
     },
     "execution_count": 9,
     "metadata": {},
     "output_type": "execute_result"
    }
   ],
   "source": [
    "AYL_theatre_data[\"per_ms_sps\"].mean()"
   ]
  },
  {
   "cell_type": "code",
   "execution_count": 10,
   "metadata": {
    "collapsed": true
   },
   "outputs": [],
   "source": [
    "import plotly.plotly as py\n",
    "import plotly.graph_objs as go\n",
    "import plotly.figure_factory as ff\n",
    "from collections import Counter"
   ]
  },
  {
   "cell_type": "markdown",
   "metadata": {},
   "source": [
    "### Roles"
   ]
  },
  {
   "cell_type": "code",
   "execution_count": 11,
   "metadata": {
    "collapsed": false,
    "scrolled": false
   },
   "outputs": [
    {
     "data": {
      "text/html": [
       "<iframe id=\"igraph\" scrolling=\"no\" style=\"border:none;\" seamless=\"seamless\" src=\"https://plot.ly/~juscheuchenpflug/4.embed\" height=\"525px\" width=\"100%\"></iframe>"
      ],
      "text/plain": [
       "<plotly.tools.PlotlyDisplay object>"
      ]
     },
     "execution_count": 11,
     "metadata": {},
     "output_type": "execute_result"
    }
   ],
   "source": [
    "x_axis = AYL_theatre_data[\"role\"]\n",
    "role_data = [go.Histogram(x=x_axis)]\n",
    "\n",
    "py.iplot(role_data, filename='roles_hist')"
   ]
  },
  {
   "cell_type": "code",
   "execution_count": 12,
   "metadata": {
    "collapsed": false
   },
   "outputs": [
    {
     "name": "stdout",
     "output_type": "stream",
     "text": [
      "Counter({'other': 23, 'antagonist': 2, 'protagonist': 1, 'lover': 1})\n"
     ]
    }
   ],
   "source": [
    "print(Counter(AYL_theatre_data[\"role\"]))"
   ]
  },
  {
   "cell_type": "markdown",
   "metadata": {},
   "source": [
    "### Speech occurences per Label/Character/Speaker"
   ]
  },
  {
   "cell_type": "code",
   "execution_count": 13,
   "metadata": {
    "collapsed": false,
    "scrolled": false
   },
   "outputs": [
    {
     "data": {
      "text/html": [
       "<iframe id=\"igraph\" scrolling=\"no\" style=\"border:none;\" seamless=\"seamless\" src=\"https://plot.ly/~juscheuchenpflug/6.embed\" height=\"525px\" width=\"100%\"></iframe>"
      ],
      "text/plain": [
       "<plotly.tools.PlotlyDisplay object>"
      ]
     },
     "execution_count": 13,
     "metadata": {},
     "output_type": "execute_result"
    }
   ],
   "source": [
    "sp_data = [go.Bar(x=AYL_theatre_data.label, y=AYL_theatre_data.per_ms_sps)]\n",
    "py.iplot(sp_data, filename='sp_hist')"
   ]
  },
  {
   "cell_type": "code",
   "execution_count": 14,
   "metadata": {
    "collapsed": false
   },
   "outputs": [
    {
     "data": {
      "text/html": [
       "<div>\n",
       "<style scoped>\n",
       "    .dataframe tbody tr th:only-of-type {\n",
       "        vertical-align: middle;\n",
       "    }\n",
       "\n",
       "    .dataframe tbody tr th {\n",
       "        vertical-align: top;\n",
       "    }\n",
       "\n",
       "    .dataframe thead th {\n",
       "        text-align: right;\n",
       "    }\n",
       "</style>\n",
       "<table border=\"1\" class=\"dataframe\">\n",
       "  <thead>\n",
       "    <tr style=\"text-align: right;\">\n",
       "      <th></th>\n",
       "      <th>label</th>\n",
       "      <th>per_ms_sps</th>\n",
       "    </tr>\n",
       "  </thead>\n",
       "  <tbody>\n",
       "    <tr>\n",
       "      <th>0</th>\n",
       "      <td>orlando</td>\n",
       "      <td>120</td>\n",
       "    </tr>\n",
       "    <tr>\n",
       "      <th>1</th>\n",
       "      <td>oliver</td>\n",
       "      <td>40</td>\n",
       "    </tr>\n",
       "    <tr>\n",
       "      <th>2</th>\n",
       "      <td>second brother</td>\n",
       "      <td>2</td>\n",
       "    </tr>\n",
       "    <tr>\n",
       "      <th>3</th>\n",
       "      <td>adam</td>\n",
       "      <td>10</td>\n",
       "    </tr>\n",
       "    <tr>\n",
       "      <th>4</th>\n",
       "      <td>dennis</td>\n",
       "      <td>2</td>\n",
       "    </tr>\n",
       "    <tr>\n",
       "      <th>5</th>\n",
       "      <td>rosalind</td>\n",
       "      <td>201</td>\n",
       "    </tr>\n",
       "    <tr>\n",
       "      <th>6</th>\n",
       "      <td>celia</td>\n",
       "      <td>108</td>\n",
       "    </tr>\n",
       "    <tr>\n",
       "      <th>7</th>\n",
       "      <td>touchstone</td>\n",
       "      <td>74</td>\n",
       "    </tr>\n",
       "    <tr>\n",
       "      <th>8</th>\n",
       "      <td>duke frederick</td>\n",
       "      <td>20</td>\n",
       "    </tr>\n",
       "    <tr>\n",
       "      <th>9</th>\n",
       "      <td>charles</td>\n",
       "      <td>8</td>\n",
       "    </tr>\n",
       "    <tr>\n",
       "      <th>10</th>\n",
       "      <td>le beau</td>\n",
       "      <td>14</td>\n",
       "    </tr>\n",
       "    <tr>\n",
       "      <th>11</th>\n",
       "      <td>first lord</td>\n",
       "      <td>1</td>\n",
       "    </tr>\n",
       "    <tr>\n",
       "      <th>12</th>\n",
       "      <td>second lord</td>\n",
       "      <td>1</td>\n",
       "    </tr>\n",
       "    <tr>\n",
       "      <th>13</th>\n",
       "      <td>duke senior</td>\n",
       "      <td>32</td>\n",
       "    </tr>\n",
       "    <tr>\n",
       "      <th>14</th>\n",
       "      <td>jaques</td>\n",
       "      <td>57</td>\n",
       "    </tr>\n",
       "    <tr>\n",
       "      <th>15</th>\n",
       "      <td>amiens</td>\n",
       "      <td>11</td>\n",
       "    </tr>\n",
       "    <tr>\n",
       "      <th>16</th>\n",
       "      <td>first lord sen</td>\n",
       "      <td>6</td>\n",
       "    </tr>\n",
       "    <tr>\n",
       "      <th>17</th>\n",
       "      <td>second lord sen</td>\n",
       "      <td>3</td>\n",
       "    </tr>\n",
       "    <tr>\n",
       "      <th>18</th>\n",
       "      <td>first page</td>\n",
       "      <td>4</td>\n",
       "    </tr>\n",
       "    <tr>\n",
       "      <th>19</th>\n",
       "      <td>second page</td>\n",
       "      <td>3</td>\n",
       "    </tr>\n",
       "    <tr>\n",
       "      <th>20</th>\n",
       "      <td>corin</td>\n",
       "      <td>24</td>\n",
       "    </tr>\n",
       "    <tr>\n",
       "      <th>21</th>\n",
       "      <td>silvius</td>\n",
       "      <td>24</td>\n",
       "    </tr>\n",
       "    <tr>\n",
       "      <th>22</th>\n",
       "      <td>phoebe</td>\n",
       "      <td>23</td>\n",
       "    </tr>\n",
       "    <tr>\n",
       "      <th>23</th>\n",
       "      <td>audrey</td>\n",
       "      <td>12</td>\n",
       "    </tr>\n",
       "    <tr>\n",
       "      <th>24</th>\n",
       "      <td>william</td>\n",
       "      <td>11</td>\n",
       "    </tr>\n",
       "    <tr>\n",
       "      <th>25</th>\n",
       "      <td>sir oliver martext</td>\n",
       "      <td>3</td>\n",
       "    </tr>\n",
       "    <tr>\n",
       "      <th>26</th>\n",
       "      <td>hymen</td>\n",
       "      <td>2</td>\n",
       "    </tr>\n",
       "  </tbody>\n",
       "</table>\n",
       "</div>"
      ],
      "text/plain": [
       "                 label  per_ms_sps\n",
       "0              orlando         120\n",
       "1               oliver          40\n",
       "2       second brother           2\n",
       "3                 adam          10\n",
       "4               dennis           2\n",
       "5             rosalind         201\n",
       "6                celia         108\n",
       "7           touchstone          74\n",
       "8       duke frederick          20\n",
       "9              charles           8\n",
       "10             le beau          14\n",
       "11          first lord           1\n",
       "12         second lord           1\n",
       "13         duke senior          32\n",
       "14              jaques          57\n",
       "15              amiens          11\n",
       "16      first lord sen           6\n",
       "17     second lord sen           3\n",
       "18          first page           4\n",
       "19         second page           3\n",
       "20               corin          24\n",
       "21             silvius          24\n",
       "22              phoebe          23\n",
       "23              audrey          12\n",
       "24             william          11\n",
       "25  sir oliver martext           3\n",
       "26               hymen           2"
      ]
     },
     "execution_count": 14,
     "metadata": {},
     "output_type": "execute_result"
    }
   ],
   "source": [
    "sp_table = AYL_theatre_data[['label', 'per_ms_sps']]\n",
    "sp_table"
   ]
  },
  {
   "cell_type": "markdown",
   "metadata": {},
   "source": [
    "### Importance"
   ]
  },
  {
   "cell_type": "code",
   "execution_count": 15,
   "metadata": {
    "collapsed": false
   },
   "outputs": [
    {
     "data": {
      "text/html": [
       "<div>\n",
       "<style scoped>\n",
       "    .dataframe tbody tr th:only-of-type {\n",
       "        vertical-align: middle;\n",
       "    }\n",
       "\n",
       "    .dataframe tbody tr th {\n",
       "        vertical-align: top;\n",
       "    }\n",
       "\n",
       "    .dataframe thead th {\n",
       "        text-align: right;\n",
       "    }\n",
       "</style>\n",
       "<table border=\"1\" class=\"dataframe\">\n",
       "  <thead>\n",
       "    <tr style=\"text-align: right;\">\n",
       "      <th></th>\n",
       "      <th>label</th>\n",
       "      <th>importance</th>\n",
       "    </tr>\n",
       "  </thead>\n",
       "  <tbody>\n",
       "    <tr>\n",
       "      <th>0</th>\n",
       "      <td>orlando</td>\n",
       "      <td>primary</td>\n",
       "    </tr>\n",
       "    <tr>\n",
       "      <th>1</th>\n",
       "      <td>oliver</td>\n",
       "      <td>primary</td>\n",
       "    </tr>\n",
       "    <tr>\n",
       "      <th>2</th>\n",
       "      <td>second brother</td>\n",
       "      <td>minor</td>\n",
       "    </tr>\n",
       "    <tr>\n",
       "      <th>3</th>\n",
       "      <td>adam</td>\n",
       "      <td>minor</td>\n",
       "    </tr>\n",
       "    <tr>\n",
       "      <th>4</th>\n",
       "      <td>dennis</td>\n",
       "      <td>minor</td>\n",
       "    </tr>\n",
       "    <tr>\n",
       "      <th>5</th>\n",
       "      <td>rosalind</td>\n",
       "      <td>primary</td>\n",
       "    </tr>\n",
       "    <tr>\n",
       "      <th>6</th>\n",
       "      <td>celia</td>\n",
       "      <td>secondary</td>\n",
       "    </tr>\n",
       "    <tr>\n",
       "      <th>7</th>\n",
       "      <td>touchstone</td>\n",
       "      <td>secondary</td>\n",
       "    </tr>\n",
       "    <tr>\n",
       "      <th>8</th>\n",
       "      <td>duke frederick</td>\n",
       "      <td>secondary</td>\n",
       "    </tr>\n",
       "    <tr>\n",
       "      <th>9</th>\n",
       "      <td>charles</td>\n",
       "      <td>minor</td>\n",
       "    </tr>\n",
       "    <tr>\n",
       "      <th>10</th>\n",
       "      <td>le beau</td>\n",
       "      <td>minor</td>\n",
       "    </tr>\n",
       "    <tr>\n",
       "      <th>11</th>\n",
       "      <td>first lord</td>\n",
       "      <td>minor</td>\n",
       "    </tr>\n",
       "    <tr>\n",
       "      <th>12</th>\n",
       "      <td>second lord</td>\n",
       "      <td>minor</td>\n",
       "    </tr>\n",
       "    <tr>\n",
       "      <th>13</th>\n",
       "      <td>duke senior</td>\n",
       "      <td>secondary</td>\n",
       "    </tr>\n",
       "    <tr>\n",
       "      <th>14</th>\n",
       "      <td>jaques</td>\n",
       "      <td>secondary</td>\n",
       "    </tr>\n",
       "    <tr>\n",
       "      <th>15</th>\n",
       "      <td>amiens</td>\n",
       "      <td>minor</td>\n",
       "    </tr>\n",
       "    <tr>\n",
       "      <th>16</th>\n",
       "      <td>first lord sen</td>\n",
       "      <td>minor</td>\n",
       "    </tr>\n",
       "    <tr>\n",
       "      <th>17</th>\n",
       "      <td>second lord sen</td>\n",
       "      <td>minor</td>\n",
       "    </tr>\n",
       "    <tr>\n",
       "      <th>18</th>\n",
       "      <td>first page</td>\n",
       "      <td>minor</td>\n",
       "    </tr>\n",
       "    <tr>\n",
       "      <th>19</th>\n",
       "      <td>second page</td>\n",
       "      <td>minor</td>\n",
       "    </tr>\n",
       "    <tr>\n",
       "      <th>20</th>\n",
       "      <td>corin</td>\n",
       "      <td>minor</td>\n",
       "    </tr>\n",
       "    <tr>\n",
       "      <th>21</th>\n",
       "      <td>silvius</td>\n",
       "      <td>minor</td>\n",
       "    </tr>\n",
       "    <tr>\n",
       "      <th>22</th>\n",
       "      <td>phoebe</td>\n",
       "      <td>minor</td>\n",
       "    </tr>\n",
       "    <tr>\n",
       "      <th>23</th>\n",
       "      <td>audrey</td>\n",
       "      <td>minor</td>\n",
       "    </tr>\n",
       "    <tr>\n",
       "      <th>24</th>\n",
       "      <td>william</td>\n",
       "      <td>minor</td>\n",
       "    </tr>\n",
       "    <tr>\n",
       "      <th>25</th>\n",
       "      <td>sir oliver martext</td>\n",
       "      <td>minor</td>\n",
       "    </tr>\n",
       "    <tr>\n",
       "      <th>26</th>\n",
       "      <td>hymen</td>\n",
       "      <td>minor</td>\n",
       "    </tr>\n",
       "  </tbody>\n",
       "</table>\n",
       "</div>"
      ],
      "text/plain": [
       "                 label importance\n",
       "0              orlando    primary\n",
       "1               oliver    primary\n",
       "2       second brother      minor\n",
       "3                 adam      minor\n",
       "4               dennis      minor\n",
       "5             rosalind    primary\n",
       "6                celia  secondary\n",
       "7           touchstone  secondary\n",
       "8       duke frederick  secondary\n",
       "9              charles      minor\n",
       "10             le beau      minor\n",
       "11          first lord      minor\n",
       "12         second lord      minor\n",
       "13         duke senior  secondary\n",
       "14              jaques  secondary\n",
       "15              amiens      minor\n",
       "16      first lord sen      minor\n",
       "17     second lord sen      minor\n",
       "18          first page      minor\n",
       "19         second page      minor\n",
       "20               corin      minor\n",
       "21             silvius      minor\n",
       "22              phoebe      minor\n",
       "23              audrey      minor\n",
       "24             william      minor\n",
       "25  sir oliver martext      minor\n",
       "26               hymen      minor"
      ]
     },
     "execution_count": 15,
     "metadata": {},
     "output_type": "execute_result"
    }
   ],
   "source": [
    "importance_table = AYL_theatre_data[['label','importance']]\n",
    "importance_table"
   ]
  },
  {
   "cell_type": "code",
   "execution_count": 16,
   "metadata": {
    "collapsed": false
   },
   "outputs": [
    {
     "name": "stdout",
     "output_type": "stream",
     "text": [
      "Counter({'minor': 19, 'secondary': 5, 'primary': 3})\n"
     ]
    }
   ],
   "source": [
    "print(Counter(AYL_theatre_data[\"importance\"]))"
   ]
  },
  {
   "cell_type": "markdown",
   "metadata": {},
   "source": [
    "### Gender"
   ]
  },
  {
   "cell_type": "code",
   "execution_count": 17,
   "metadata": {
    "collapsed": false
   },
   "outputs": [
    {
     "name": "stdout",
     "output_type": "stream",
     "text": [
      "Counter({'male': 23, 'female': 4})\n"
     ]
    }
   ],
   "source": [
    "print(Counter(AYL_theatre_data[\"gender\"]))"
   ]
  },
  {
   "cell_type": "code",
   "execution_count": null,
   "metadata": {
    "collapsed": true
   },
   "outputs": [],
   "source": []
  }
 ],
 "metadata": {
  "kernelspec": {
   "display_name": "Python 3",
   "language": "python",
   "name": "python3"
  },
  "language_info": {
   "codemirror_mode": {
    "name": "ipython",
    "version": 3
   },
   "file_extension": ".py",
   "mimetype": "text/x-python",
   "name": "python",
   "nbconvert_exporter": "python",
   "pygments_lexer": "ipython3",
   "version": "3.6.3"
  }
 },
 "nbformat": 4,
 "nbformat_minor": 2
}
