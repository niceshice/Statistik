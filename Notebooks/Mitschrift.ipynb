{
 "cells": [
  {
   "cell_type": "markdown",
   "metadata": {},
   "source": [
    "# Parameter, Begrifflichkeiten\n",
    "\n",
    "Lageparameter|Streuparameter\n",
    "---|---\n",
    "Arithmetischer Mittelwert|Standardabweichung\n",
    "Median|Interquartilsabstand\n",
    "Modus/Modalwert|\n",
    "\n",
    "### Erklärung\n",
    "\n",
    "##### Mittelwert\n",
    "\n",
    "Wert in der Mitte eines Datensatzes:\n",
    "\n",
    "[25, 29, 34, 46, 54, 55, 57, 66, 78, 80] => 54.5\n",
    "\n",
    "##### Quartile\n",
    "\n",
    "    0% = Minimum (25)\n",
    "    25% = 34\n",
    "    50% = Median (54,5)\n",
    "    75% = 66\n",
    "    100% = Maximum (80)\n",
    "\n",
    "Interquartilabstand (IQD) = Abstand zwischen 25%- und 75%-Quartil (absolute Werte) => 32\n",
    "\n",
    "###### Quantil\n",
    "\n",
    "für jede Prozentzahl existent (=*Percentil*)\n",
    "\n",
    "0% = Minimum\n",
    "100% = Maximum\n",
    "\n",
    "##### Modus/Modalwert\n",
    "Häufigster vorkommender Wert"
   ]
  },
  {
   "cell_type": "markdown",
   "metadata": {},
   "source": [
    "## Skalenniveau\n",
    "    Daten sind..\n",
    "numerisch <|> kategorial\n",
    "---|---\n",
    "Integer|String\n",
    "Float|\n",
    "\n",
    "kontinuierlich <=> diskret\n",
    "\n",
    "- nominalskaliert = Daten, die durch Worte beschrieben werden können (nicht wirklich in Reihenfolge zu bringen; Liste der Gender) [kategorial]\n",
    "- intervallskaliert = Daten, bei denen die Intervalle zw. Daten Bedeutung haben [numerisch]\n",
    "- oridnalskaliert = diskrete Zustände mit Reihenfolge\n"
   ]
  },
  {
   "cell_type": "code",
   "execution_count": null,
   "metadata": {
    "collapsed": true
   },
   "outputs": [],
   "source": []
  }
 ],
 "metadata": {
  "kernelspec": {
   "display_name": "Python 3",
   "language": "python",
   "name": "python3"
  },
  "language_info": {
   "codemirror_mode": {
    "name": "ipython",
    "version": 3
   },
   "file_extension": ".py",
   "mimetype": "text/x-python",
   "name": "python",
   "nbconvert_exporter": "python",
   "pygments_lexer": "ipython3",
   "version": "3.6.3"
  }
 },
 "nbformat": 4,
 "nbformat_minor": 2
}
